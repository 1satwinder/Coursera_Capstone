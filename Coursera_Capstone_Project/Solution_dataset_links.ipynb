{
 "cells": [
  {
   "cell_type": "markdown",
   "metadata": {},
   "source": [
    "# Applied Data Science - Capstone"
   ]
  },
  {
   "cell_type": "markdown",
   "metadata": {},
   "source": [
    "### Business Problem Solution"
   ]
  },
  {
   "cell_type": "markdown",
   "metadata": {},
   "source": [
    "The solution can be provided using Foursquare location data as well as the demographics open dataset available from Wikipedia.                                             \n",
    "\n",
    "Data set links-Beautiful Soup used to web scrap table data from web page.                                                                           \n",
    "1 <a href='https://en.wikipedia.org/wiki/List_of_postal_codes_of_Canada:_M'>Neighbourhoods in Toronto</a>                                           \n",
    "2 <a href='https://en.wikipedia.org/wiki/Demographics_of_Toronto_neighbourhoods'>Demographics_of_Toronto_neighbourhoods</a>                         \n",
    "3 Foursquare API used to explore venues in each Neighbourhood.                                                                                                                                                            \n",
    "\n",
    "In order to advise the entrepreneurs on a good location, we will consider the density (frequency) of similar business venues in various parts of Toronto that cater to preferred ethnic area/neighbourhoods, average income, population, population density, population growth rate, spoken languages in the same area.\n",
    "\n",
    "\n"
   ]
  }
 ],
 "metadata": {
  "kernelspec": {
   "display_name": "Python 3",
   "language": "python",
   "name": "python3"
  },
  "language_info": {
   "codemirror_mode": {
    "name": "ipython",
    "version": 3
   },
   "file_extension": ".py",
   "mimetype": "text/x-python",
   "name": "python",
   "nbconvert_exporter": "python",
   "pygments_lexer": "ipython3",
   "version": "3.6.6"
  }
 },
 "nbformat": 4,
 "nbformat_minor": 2
}
